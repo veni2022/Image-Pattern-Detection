{
 "cells": [
  {
   "cell_type": "code",
   "execution_count": 35,
   "id": "f6a52d80",
   "metadata": {},
   "outputs": [
    {
     "name": "stdout",
     "output_type": "stream",
     "text": [
      "<class 'pandas.core.frame.DataFrame'>\n",
      "RangeIndex: 811457 entries, 0 to 811456\n",
      "Data columns (total 6 columns):\n",
      " #   Column          Non-Null Count   Dtype  \n",
      "---  ------          --------------   -----  \n",
      " 0   waferMap        811457 non-null  object \n",
      " 1   dieSize         811457 non-null  float64\n",
      " 2   lotName         811457 non-null  object \n",
      " 3   waferIndex      811457 non-null  float64\n",
      " 4   trianTestLabel  811457 non-null  object \n",
      " 5   failureType     811457 non-null  object \n",
      "dtypes: float64(2), object(4)\n",
      "memory usage: 37.1+ MB\n"
     ]
    }
   ],
   "source": [
    "#Our goal here is to identify different types of wafer map failure pattern automatically, so that its construction can\n",
    "#be improved, by increasing the accuracy of the manufacturing process.\n",
    "\n",
    "# Importing the libraries\n",
    "\n",
    "import os\n",
    "from os.path import join\n",
    "\n",
    "import numpy as np\n",
    "import pandas as pd\n",
    "import scipy.io as sio\n",
    "\n",
    "import tensorflow as tf\n",
    "import keras\n",
    "from keras import layers, Input, models\n",
    "#from keras.utils import to_categorical\n",
    "from keras.wrappers.scikit_learn import KerasClassifier\n",
    "from tensorflow.keras.utils import to_categorical\n",
    "from sklearn.model_selection import KFold \n",
    "from sklearn.model_selection import cross_val_score\n",
    "\n",
    "from sklearn.model_selection import train_test_split\n",
    "\n",
    "import matplotlib.pyplot as plt\n",
    "\n",
    "import warnings\n",
    "warnings.filterwarnings(\"ignore\")\n",
    "\n",
    "df=pd.read_pickle(\"LSWMD.pkl\")\n",
    "df.info()"
   ]
  },
  {
   "cell_type": "code",
   "execution_count": 7,
   "id": "f454e784",
   "metadata": {},
   "outputs": [],
   "source": [
    "df = df.drop(['waferIndex'], axis = 1)"
   ]
  },
  {
   "cell_type": "code",
   "execution_count": 8,
   "id": "14b13b77",
   "metadata": {},
   "outputs": [
    {
     "data": {
      "text/html": [
       "<div>\n",
       "<style scoped>\n",
       "    .dataframe tbody tr th:only-of-type {\n",
       "        vertical-align: middle;\n",
       "    }\n",
       "\n",
       "    .dataframe tbody tr th {\n",
       "        vertical-align: top;\n",
       "    }\n",
       "\n",
       "    .dataframe thead th {\n",
       "        text-align: right;\n",
       "    }\n",
       "</style>\n",
       "<table border=\"1\" class=\"dataframe\">\n",
       "  <thead>\n",
       "    <tr style=\"text-align: right;\">\n",
       "      <th></th>\n",
       "      <th>waferMap</th>\n",
       "      <th>dieSize</th>\n",
       "      <th>lotName</th>\n",
       "      <th>trianTestLabel</th>\n",
       "      <th>failureType</th>\n",
       "      <th>waferMapDim</th>\n",
       "    </tr>\n",
       "  </thead>\n",
       "  <tbody>\n",
       "    <tr>\n",
       "      <th>527092</th>\n",
       "      <td>[[0, 0, 0, 0, 0, 0, 0, 0, 0, 0, 0, 1, 1, 1, 2,...</td>\n",
       "      <td>515.0</td>\n",
       "      <td>lot32972</td>\n",
       "      <td>[]</td>\n",
       "      <td>[]</td>\n",
       "      <td>(25, 27)</td>\n",
       "    </tr>\n",
       "    <tr>\n",
       "      <th>112542</th>\n",
       "      <td>[[0, 0, 0, 0, 0, 0, 0, 0, 0, 0, 2, 1, 1, 1, 1,...</td>\n",
       "      <td>533.0</td>\n",
       "      <td>lot7566</td>\n",
       "      <td>[]</td>\n",
       "      <td>[]</td>\n",
       "      <td>(26, 26)</td>\n",
       "    </tr>\n",
       "    <tr>\n",
       "      <th>221380</th>\n",
       "      <td>[[0, 0, 0, 0, 0, 0, 0, 0, 0, 0, 0, 0, 0, 2, 2,...</td>\n",
       "      <td>1075.0</td>\n",
       "      <td>lot13969</td>\n",
       "      <td>[[Training]]</td>\n",
       "      <td>[[Edge-Ring]]</td>\n",
       "      <td>(38, 36)</td>\n",
       "    </tr>\n",
       "    <tr>\n",
       "      <th>315968</th>\n",
       "      <td>[[0, 0, 0, 0, 0, 0, 0, 0, 0, 0, 0, 0, 0, 0, 0,...</td>\n",
       "      <td>1226.0</td>\n",
       "      <td>lot19230</td>\n",
       "      <td>[]</td>\n",
       "      <td>[]</td>\n",
       "      <td>(40, 40)</td>\n",
       "    </tr>\n",
       "    <tr>\n",
       "      <th>697138</th>\n",
       "      <td>[[0, 0, 0, 0, 0, 0, 0, 0, 0, 0, 0, 0, 2, 2, 2,...</td>\n",
       "      <td>516.0</td>\n",
       "      <td>lot42908</td>\n",
       "      <td>[[Training]]</td>\n",
       "      <td>[[none]]</td>\n",
       "      <td>(25, 27)</td>\n",
       "    </tr>\n",
       "  </tbody>\n",
       "</table>\n",
       "</div>"
      ],
      "text/plain": [
       "                                                 waferMap  dieSize   lotName  \\\n",
       "527092  [[0, 0, 0, 0, 0, 0, 0, 0, 0, 0, 0, 1, 1, 1, 2,...    515.0  lot32972   \n",
       "112542  [[0, 0, 0, 0, 0, 0, 0, 0, 0, 0, 2, 1, 1, 1, 1,...    533.0   lot7566   \n",
       "221380  [[0, 0, 0, 0, 0, 0, 0, 0, 0, 0, 0, 0, 0, 2, 2,...   1075.0  lot13969   \n",
       "315968  [[0, 0, 0, 0, 0, 0, 0, 0, 0, 0, 0, 0, 0, 0, 0,...   1226.0  lot19230   \n",
       "697138  [[0, 0, 0, 0, 0, 0, 0, 0, 0, 0, 0, 0, 2, 2, 2,...    516.0  lot42908   \n",
       "\n",
       "       trianTestLabel    failureType waferMapDim  \n",
       "527092             []             []    (25, 27)  \n",
       "112542             []             []    (26, 26)  \n",
       "221380   [[Training]]  [[Edge-Ring]]    (38, 36)  \n",
       "315968             []             []    (40, 40)  \n",
       "697138   [[Training]]       [[none]]    (25, 27)  "
      ]
     },
     "execution_count": 8,
     "metadata": {},
     "output_type": "execute_result"
    }
   ],
   "source": [
    "def find_dim(x):\n",
    "    dim0=np.size(x,axis=0)\n",
    "    dim1=np.size(x,axis=1)\n",
    "    return dim0,dim1\n",
    "df['waferMapDim']=df.waferMap.apply(find_dim)\n",
    "df.sample(5)"
   ]
  },
  {
   "cell_type": "code",
   "execution_count": 9,
   "id": "f41ab694",
   "metadata": {},
   "outputs": [],
   "source": [
    "df['failureNum']=df.failureType\n",
    "df['trainTestNum']=df.trianTestLabel\n",
    "mapping_type={'Center':0,'Donut':1,'Edge-Loc':2,'Edge-Ring':3,'Loc':4,'Random':5,'Scratch':6,'Near-full':7,'none':8}\n",
    "mapping_traintest={'Training':0,'Test':1}\n",
    "df=df.replace({'failureNum':mapping_type, 'trainTestNum':mapping_traintest})"
   ]
  },
  {
   "cell_type": "code",
   "execution_count": 10,
   "id": "d78ac0ad",
   "metadata": {},
   "outputs": [
    {
     "data": {
      "text/plain": [
       "811457"
      ]
     },
     "execution_count": 10,
     "metadata": {},
     "output_type": "execute_result"
    }
   ],
   "source": [
    "tol_wafers = df.shape[0]\n",
    "tol_wafers\n"
   ]
  },
  {
   "cell_type": "code",
   "execution_count": 11,
   "id": "f3ad5cfe",
   "metadata": {},
   "outputs": [
    {
     "data": {
      "text/plain": [
       "(172950, 25519, 147431)"
      ]
     },
     "execution_count": 11,
     "metadata": {},
     "output_type": "execute_result"
    }
   ],
   "source": [
    "df_withlabel = df[(df['failureNum']>=0) & (df['failureNum']<=8)]\n",
    "df_withlabel =df_withlabel.reset_index()\n",
    "df_withpattern = df[(df['failureNum']>=0) & (df['failureNum']<=7)]\n",
    "df_withpattern = df_withpattern.reset_index()\n",
    "df_nonpattern = df[(df['failureNum']==8)]\n",
    "df_withlabel.shape[0], df_withpattern.shape[0], df_nonpattern.shape[0]"
   ]
  },
  {
   "cell_type": "code",
   "execution_count": 12,
   "id": "097e1d05",
   "metadata": {},
   "outputs": [],
   "source": [
    "sub_df = df.loc[df['waferMapDim'] == (26, 26)]\n",
    "sub_wafer = sub_df['waferMap'].values\n",
    "\n",
    "sw = np.ones((1, 26, 26))\n",
    "label = list()\n",
    "\n",
    "for i in range(len(sub_df)):\n",
    "    # skip null label\n",
    "    if len(sub_df.iloc[i,:]['failureType']) == 0:\n",
    "        continue\n",
    "    sw = np.concatenate((sw, sub_df.iloc[i,:]['waferMap'].reshape(1, 26, 26)))\n",
    "    label.append(sub_df.iloc[i,:]['failureType'][0][0])"
   ]
  },
  {
   "cell_type": "code",
   "execution_count": 13,
   "id": "81d3548a",
   "metadata": {},
   "outputs": [],
   "source": [
    "x = sw[1:]\n",
    "y = np.array(label).reshape((-1,1))"
   ]
  },
  {
   "cell_type": "code",
   "execution_count": 14,
   "id": "7bcdd36b",
   "metadata": {},
   "outputs": [],
   "source": [
    "x = x.reshape((-1, 26, 26, 1))"
   ]
  },
  {
   "cell_type": "code",
   "execution_count": 15,
   "id": "9701957b",
   "metadata": {},
   "outputs": [
    {
     "name": "stdout",
     "output_type": "stream",
     "text": [
      "Faulty case list : ['Center' 'Donut' 'Edge-Loc' 'Edge-Ring' 'Loc' 'Near-full' 'Random'\n",
      " 'Scratch' 'none']\n"
     ]
    }
   ],
   "source": [
    "faulty_case = np.unique(y)\n",
    "print('Faulty case list : {}'.format(faulty_case))"
   ]
  },
  {
   "cell_type": "code",
   "execution_count": 16,
   "id": "4ec941d3",
   "metadata": {},
   "outputs": [],
   "source": [
    "new_x = np.zeros((len(x), 26, 26, 3))\n",
    "\n",
    "for w in range(len(x)):\n",
    "    for i in range(26):\n",
    "        for j in range(26):\n",
    "            new_x[w, i, j, int(x[w, i, j])] = 1"
   ]
  },
  {
   "cell_type": "code",
   "execution_count": 17,
   "id": "561bbaba",
   "metadata": {},
   "outputs": [],
   "source": [
    "# Encoder\n",
    "input_shape = (26, 26, 3)\n",
    "input_tensor = Input(input_shape)\n",
    "encode = layers.Conv2D(64, (3,3), padding='same', activation='relu')(input_tensor)\n",
    "\n",
    "latent_vector = layers.MaxPool2D()(encode)\n",
    "\n",
    "# Decoder\n",
    "decode_layer_1 = layers.Conv2DTranspose(64, (3,3), padding='same', activation='relu')\n",
    "decode_layer_2 = layers.UpSampling2D()\n",
    "output_tensor = layers.Conv2DTranspose(3, (3,3), padding='same', activation='sigmoid')\n",
    "\n",
    "# connect decoder layers\n",
    "decode = decode_layer_1(latent_vector)\n",
    "decode = decode_layer_2(decode)\n",
    "\n",
    "ae = models.Model(input_tensor, output_tensor(decode))\n",
    "ae.compile(optimizer = 'Adam',\n",
    "              loss = 'mse',\n",
    "             )"
   ]
  },
  {
   "cell_type": "code",
   "execution_count": 18,
   "id": "6145eaf9",
   "metadata": {},
   "outputs": [],
   "source": [
    "epoch=30\n",
    "batch_size=1024\n"
   ]
  },
  {
   "cell_type": "code",
   "execution_count": 19,
   "id": "5e25a86e",
   "metadata": {},
   "outputs": [
    {
     "name": "stdout",
     "output_type": "stream",
     "text": [
      "Epoch 1/30\n",
      "15/15 - 27s - loss: 0.1580 - 27s/epoch - 2s/step\n",
      "Epoch 2/30\n",
      "15/15 - 26s - loss: 0.0962 - 26s/epoch - 2s/step\n",
      "Epoch 3/30\n",
      "15/15 - 27s - loss: 0.0863 - 27s/epoch - 2s/step\n",
      "Epoch 4/30\n",
      "15/15 - 29s - loss: 0.0752 - 29s/epoch - 2s/step\n",
      "Epoch 5/30\n",
      "15/15 - 29s - loss: 0.0660 - 29s/epoch - 2s/step\n",
      "Epoch 6/30\n",
      "15/15 - 28s - loss: 0.0587 - 28s/epoch - 2s/step\n",
      "Epoch 7/30\n",
      "15/15 - 28s - loss: 0.0529 - 28s/epoch - 2s/step\n",
      "Epoch 8/30\n",
      "15/15 - 26s - loss: 0.0483 - 26s/epoch - 2s/step\n",
      "Epoch 9/30\n",
      "15/15 - 27s - loss: 0.0439 - 27s/epoch - 2s/step\n",
      "Epoch 10/30\n",
      "15/15 - 26s - loss: 0.0391 - 26s/epoch - 2s/step\n",
      "Epoch 11/30\n",
      "15/15 - 27s - loss: 0.0345 - 27s/epoch - 2s/step\n",
      "Epoch 12/30\n",
      "15/15 - 27s - loss: 0.0304 - 27s/epoch - 2s/step\n",
      "Epoch 13/30\n",
      "15/15 - 27s - loss: 0.0269 - 27s/epoch - 2s/step\n",
      "Epoch 14/30\n",
      "15/15 - 28s - loss: 0.0241 - 28s/epoch - 2s/step\n",
      "Epoch 15/30\n",
      "15/15 - 27s - loss: 0.0218 - 27s/epoch - 2s/step\n",
      "Epoch 16/30\n",
      "15/15 - 26s - loss: 0.0198 - 26s/epoch - 2s/step\n",
      "Epoch 17/30\n",
      "15/15 - 26s - loss: 0.0183 - 26s/epoch - 2s/step\n",
      "Epoch 18/30\n",
      "15/15 - 26s - loss: 0.0169 - 26s/epoch - 2s/step\n",
      "Epoch 19/30\n",
      "15/15 - 26s - loss: 0.0157 - 26s/epoch - 2s/step\n",
      "Epoch 20/30\n",
      "15/15 - 27s - loss: 0.0147 - 27s/epoch - 2s/step\n",
      "Epoch 21/30\n",
      "15/15 - 29s - loss: 0.0138 - 29s/epoch - 2s/step\n",
      "Epoch 22/30\n",
      "15/15 - 27s - loss: 0.0129 - 27s/epoch - 2s/step\n",
      "Epoch 23/30\n",
      "15/15 - 28s - loss: 0.0122 - 28s/epoch - 2s/step\n",
      "Epoch 24/30\n",
      "15/15 - 28s - loss: 0.0115 - 28s/epoch - 2s/step\n",
      "Epoch 25/30\n",
      "15/15 - 28s - loss: 0.0109 - 28s/epoch - 2s/step\n",
      "Epoch 26/30\n",
      "15/15 - 29s - loss: 0.0103 - 29s/epoch - 2s/step\n",
      "Epoch 27/30\n",
      "15/15 - 32s - loss: 0.0098 - 32s/epoch - 2s/step\n",
      "Epoch 28/30\n",
      "15/15 - 29s - loss: 0.0093 - 29s/epoch - 2s/step\n",
      "Epoch 29/30\n",
      "15/15 - 27s - loss: 0.0089 - 27s/epoch - 2s/step\n",
      "Epoch 30/30\n",
      "15/15 - 26s - loss: 0.0085 - 26s/epoch - 2s/step\n"
     ]
    },
    {
     "data": {
      "text/plain": [
       "<keras.callbacks.History at 0x1ca48cd01f0>"
      ]
     },
     "execution_count": 19,
     "metadata": {},
     "output_type": "execute_result"
    }
   ],
   "source": [
    "# start train\n",
    "ae.fit(new_x, new_x,\n",
    "       batch_size=batch_size,\n",
    "       epochs=epoch,\n",
    "       verbose=2)"
   ]
  },
  {
   "cell_type": "code",
   "execution_count": 20,
   "id": "8cfca0ec",
   "metadata": {},
   "outputs": [],
   "source": [
    "encoder = models.Model(input_tensor, latent_vector)\n"
   ]
  },
  {
   "cell_type": "code",
   "execution_count": 21,
   "id": "fc759c66",
   "metadata": {},
   "outputs": [],
   "source": [
    "decoder_input = Input((13, 13, 64))\n",
    "decode = decode_layer_1(decoder_input)\n",
    "decode = decode_layer_2(decode)\n",
    "\n",
    "decoder = models.Model(decoder_input, output_tensor(decode))"
   ]
  },
  {
   "cell_type": "code",
   "execution_count": 22,
   "id": "ed8620e7",
   "metadata": {},
   "outputs": [],
   "source": [
    "# Encode original faulty wafer\n",
    "encoded_x = encoder.predict(new_x)"
   ]
  },
  {
   "cell_type": "code",
   "execution_count": 23,
   "id": "355fed71",
   "metadata": {},
   "outputs": [],
   "source": [
    "# Add noise to encoded latent faulty wafers vector.\n",
    "noised_encoded_x = encoded_x + np.random.normal(loc=0, scale=0.1, size = (len(encoded_x), 13, 13, 64))"
   ]
  },
  {
   "cell_type": "code",
   "execution_count": 24,
   "id": "daff8b6a",
   "metadata": {},
   "outputs": [
    {
     "data": {
      "text/plain": [
       "<matplotlib.image.AxesImage at 0x1caa226dfd0>"
      ]
     },
     "execution_count": 24,
     "metadata": {},
     "output_type": "execute_result"
    },
    {
     "data": {
      "image/png": "[encoded data removed]",
      "text/plain": [
       "<Figure size 432x288 with 1 Axes>"
      ]
     },
     "metadata": {
      "needs_background": "light"
     },
     "output_type": "display_data"
    }
   ],
   "source": [
    "# check new noised faulty wafer data\n",
    "noised_gen_x = np.argmax(decoder.predict(noised_encoded_x), axis=3)\n",
    "plt.imshow(noised_gen_x[3])"
   ]
  },
  {
   "cell_type": "code",
   "execution_count": 25,
   "id": "0fc61b75",
   "metadata": {},
   "outputs": [],
   "source": [
    "# augment function define\n",
    "def gen_data(wafer, label):\n",
    "    # Encode input wafer\n",
    "    encoded_x = encoder.predict(wafer)\n",
    "    \n",
    "    # dummy array for collecting noised wafer\n",
    "    gen_x = np.zeros((1, 26, 26, 3))\n",
    "    \n",
    "    # Make wafer until total # of wafer to 2000\n",
    "    for i in range((2000//len(wafer)) + 1):\n",
    "        noised_encoded_x = encoded_x + np.random.normal(loc=0, scale=0.1, size = (len(encoded_x), 13, 13, 64)) \n",
    "        noised_gen_x = decoder.predict(noised_encoded_x)\n",
    "        gen_x = np.concatenate((gen_x, noised_gen_x), axis=0)\n",
    "    # also make label vector with same length\n",
    "    gen_y = np.full((len(gen_x), 1), label)\n",
    "    \n",
    "  # return date without 1st dummy data.\n",
    "    return gen_x[1:], gen_y[1:]"
   ]
  },
  {
   "cell_type": "code",
   "execution_count": 27,
   "id": "6f278943",
   "metadata": {},
   "outputs": [],
   "source": [
    "# Augmentation for all faulty case.\n",
    "for f in faulty_case : \n",
    "    # skip none case\n",
    "    if f == 'none' : \n",
    "        continue\n",
    "    \n",
    "    gen_x, gen_y = gen_data(new_x[np.where(y==f)[0]], f)\n",
    "    new_x = np.concatenate((new_x, gen_x), axis=0)\n",
    "    y = np.concatenate((y, gen_y))"
   ]
  },
  {
   "cell_type": "code",
   "execution_count": 28,
   "id": "636d6cd2",
   "metadata": {},
   "outputs": [
    {
     "name": "stdout",
     "output_type": "stream",
     "text": [
      "Center : 2160\n",
      "Donut : 2002\n",
      "Edge-Loc : 2368\n",
      "Edge-Ring : 2046\n",
      "Loc : 2376\n",
      "Near-full : 2032\n",
      "Random : 2146\n",
      "Scratch : 2088\n",
      "none : 13489\n"
     ]
    }
   ],
   "source": [
    "for f in faulty_case :\n",
    "    print('{} : {}'.format(f, len(y[y==f])))"
   ]
  },
  {
   "cell_type": "code",
   "execution_count": 29,
   "id": "2b0b33af",
   "metadata": {},
   "outputs": [],
   "source": [
    "none_idx = np.where(y=='none')[0][np.random.choice(len(np.where(y=='none')[0]), size=11000, replace=False)]"
   ]
  },
  {
   "cell_type": "code",
   "execution_count": 30,
   "id": "70098c89",
   "metadata": {},
   "outputs": [],
   "source": [
    "new_x = np.delete(new_x, none_idx, axis=0)\n",
    "new_y = np.delete(y, none_idx, axis=0)"
   ]
  },
  {
   "cell_type": "code",
   "execution_count": 31,
   "id": "d5c0c4fb",
   "metadata": {},
   "outputs": [
    {
     "name": "stdout",
     "output_type": "stream",
     "text": [
      "Center : 2160\n",
      "Donut : 2002\n",
      "Edge-Loc : 2368\n",
      "Edge-Ring : 2046\n",
      "Loc : 2376\n",
      "Near-full : 2032\n",
      "Random : 2146\n",
      "Scratch : 2088\n",
      "none : 2489\n"
     ]
    }
   ],
   "source": [
    "for f in faulty_case :\n",
    "    print('{} : {}'.format(f, len(new_y[new_y==f])))"
   ]
  },
  {
   "cell_type": "code",
   "execution_count": 32,
   "id": "57c54ce5",
   "metadata": {},
   "outputs": [
    {
     "data": {
      "image/png": "[encoded data removed]",
      "text/plain": [
       "<Figure size 1080x360 with 1 Axes>"
      ]
     },
     "metadata": {
      "needs_background": "light"
     },
     "output_type": "display_data"
    }
   ],
   "source": [
    "%matplotlib inline\n",
    "\n",
    "fig = plt.figure(figsize=(15, 5))\n",
    "axe=plt.subplot(1,1,1)\n",
    "\n",
    "uni_pattern=np.unique(new_y, return_counts=True)\n",
    "labels = ['Center','Donut','Edge-Loc','Edge-Ring','Loc','Random','Scratch','Near-full']\n",
    "axe.bar(uni_pattern[0],uni_pattern[1], color='blue', align='center', alpha=0.9)\n",
    "axe.set_title(\"number  of failure types in wafer maps\")\n",
    "axe.set_ylabel(\"number of pattern wafers\")\n",
    "axe.set_xticklabels(labels)\n",
    "\n",
    "plt.show()\n",
    "\n",
    "\n"
   ]
  },
  {
   "cell_type": "code",
   "execution_count": 36,
   "id": "01809df9",
   "metadata": {},
   "outputs": [],
   "source": [
    "for i, l in enumerate(faulty_case):\n",
    "    new_y[new_y==l] = i\n",
    "    \n",
    "# one-hot-encoding\n",
    "new_y = to_categorical(new_y)"
   ]
  },
  {
   "cell_type": "code",
   "execution_count": 37,
   "id": "5dbbd8e0",
   "metadata": {},
   "outputs": [
    {
     "data": {
      "text/plain": [
       "(705, 26, 26, 3)"
      ]
     },
     "execution_count": 37,
     "metadata": {},
     "output_type": "execute_result"
    }
   ],
   "source": [
    "new_X=new_x[0:19000]\n",
    "new_Y=new_y[0:19000]\n",
    "test_x=new_x[19001:19706]\n",
    "test_y=new_y[19001:19706]\n",
    "test_x.shape\n"
   ]
  },
  {
   "cell_type": "code",
   "execution_count": 38,
   "id": "938548ce",
   "metadata": {},
   "outputs": [],
   "source": [
    "x_train, x_test, y_train, y_test = train_test_split(new_X, new_Y,\n",
    "                                                    test_size=0.33,\n",
    "                                                    random_state=2019)"
   ]
  },
  {
   "cell_type": "code",
   "execution_count": 40,
   "id": "b7a8d97a",
   "metadata": {},
   "outputs": [],
   "source": [
    "def create_model():\n",
    "    input_shape = (26, 26, 3)\n",
    "    input_tensor = Input(input_shape)\n",
    "\n",
    "    conv_1 = layers.Conv2D(16, (3,3), activation='relu', padding='same')(input_tensor)\n",
    "    conv_2 = layers.Conv2D(64, (3,3), activation='relu', padding='same')(conv_1)\n",
    "    conv_3 = layers.Conv2D(128, (3,3), activation='relu', padding='same')(conv_2)\n",
    "\n",
    "    flat = layers.Flatten()(conv_3)\n",
    "\n",
    "    dense_1 = layers.Dense(512, activation='relu')(flat)\n",
    "    dense_2 = layers.Dense(128, activation='relu')(dense_1)\n",
    "    output_tensor = layers.Dense(9, activation='softmax')(dense_2)\n",
    "\n",
    "    model = models.Model(input_tensor, output_tensor)\n",
    "    model.compile(optimizer='Adam',\n",
    "                 loss='categorical_crossentropy',\n",
    "                  metrics=['accuracy'])\n",
    "    return model"
   ]
  },
  {
   "cell_type": "code",
   "execution_count": 41,
   "id": "9b185d89",
   "metadata": {},
   "outputs": [
    {
     "name": "stdout",
     "output_type": "stream",
     "text": [
      "Epoch 1/30\n",
      "9/9 - 71s - loss: 2.4616 - accuracy: 0.2833 - 71s/epoch - 8s/step\n",
      "Epoch 2/30\n",
      "9/9 - 60s - loss: 1.1006 - accuracy: 0.6578 - 60s/epoch - 7s/step\n",
      "Epoch 3/30\n",
      "9/9 - 60s - loss: 0.7767 - accuracy: 0.7211 - 60s/epoch - 7s/step\n",
      "Epoch 4/30\n",
      "9/9 - 56s - loss: 0.5097 - accuracy: 0.8264 - 56s/epoch - 6s/step\n",
      "Epoch 5/30\n",
      "9/9 - 55s - loss: 0.3134 - accuracy: 0.8924 - 55s/epoch - 6s/step\n",
      "Epoch 6/30\n",
      "9/9 - 54s - loss: 0.1843 - accuracy: 0.9449 - 54s/epoch - 6s/step\n",
      "Epoch 7/30\n",
      "9/9 - 55s - loss: 0.1247 - accuracy: 0.9650 - 55s/epoch - 6s/step\n",
      "Epoch 8/30\n",
      "9/9 - 55s - loss: 0.0667 - accuracy: 0.9839 - 55s/epoch - 6s/step\n",
      "Epoch 9/30\n",
      "9/9 - 57s - loss: 0.0426 - accuracy: 0.9903 - 57s/epoch - 6s/step\n",
      "Epoch 10/30\n",
      "9/9 - 79s - loss: 0.0242 - accuracy: 0.9965 - 79s/epoch - 9s/step\n",
      "Epoch 11/30\n",
      "9/9 - 54s - loss: 0.0165 - accuracy: 0.9976 - 54s/epoch - 6s/step\n",
      "Epoch 12/30\n",
      "9/9 - 56s - loss: 0.0126 - accuracy: 0.9984 - 56s/epoch - 6s/step\n",
      "Epoch 13/30\n",
      "9/9 - 47s - loss: 0.0096 - accuracy: 0.9988 - 47s/epoch - 5s/step\n",
      "Epoch 14/30\n",
      "9/9 - 46s - loss: 0.0089 - accuracy: 0.9979 - 46s/epoch - 5s/step\n",
      "Epoch 15/30\n",
      "9/9 - 47s - loss: 0.0069 - accuracy: 0.9988 - 47s/epoch - 5s/step\n",
      "Epoch 16/30\n",
      "9/9 - 62s - loss: 0.0063 - accuracy: 0.9985 - 62s/epoch - 7s/step\n",
      "Epoch 17/30\n",
      "9/9 - 53s - loss: 0.0059 - accuracy: 0.9986 - 53s/epoch - 6s/step\n",
      "Epoch 18/30\n",
      "9/9 - 42s - loss: 0.0060 - accuracy: 0.9987 - 42s/epoch - 5s/step\n",
      "Epoch 19/30\n",
      "9/9 - 45s - loss: 0.0057 - accuracy: 0.9988 - 45s/epoch - 5s/step\n",
      "Epoch 20/30\n",
      "9/9 - 43s - loss: 0.0053 - accuracy: 0.9986 - 43s/epoch - 5s/step\n",
      "Epoch 21/30\n",
      "9/9 - 48s - loss: 0.0053 - accuracy: 0.9991 - 48s/epoch - 5s/step\n",
      "Epoch 22/30\n",
      "9/9 - 40s - loss: 0.0047 - accuracy: 0.9988 - 40s/epoch - 4s/step\n",
      "Epoch 23/30\n",
      "9/9 - 43s - loss: 0.0070 - accuracy: 0.9981 - 43s/epoch - 5s/step\n",
      "Epoch 24/30\n",
      "9/9 - 47s - loss: 0.0080 - accuracy: 0.9988 - 47s/epoch - 5s/step\n",
      "Epoch 25/30\n",
      "9/9 - 40s - loss: 0.7228 - accuracy: 0.9027 - 40s/epoch - 4s/step\n",
      "Epoch 26/30\n",
      "9/9 - 40s - loss: 1.7537 - accuracy: 0.6198 - 40s/epoch - 4s/step\n",
      "Epoch 27/30\n",
      "9/9 - 53s - loss: 0.6705 - accuracy: 0.7564 - 53s/epoch - 6s/step\n",
      "Epoch 28/30\n",
      "9/9 - 63s - loss: 0.3111 - accuracy: 0.9152 - 63s/epoch - 7s/step\n",
      "Epoch 29/30\n",
      "9/9 - 61s - loss: 0.1045 - accuracy: 0.9667 - 61s/epoch - 7s/step\n",
      "Epoch 30/30\n",
      "9/9 - 43s - loss: 0.0514 - accuracy: 0.9849 - 43s/epoch - 5s/step\n",
      "5/5 - 5s - loss: 0.0916 - accuracy: 0.9691 - 5s/epoch - 1s/step\n",
      "Epoch 1/30\n",
      "9/9 - 42s - loss: 2.2513 - accuracy: 0.2319 - 42s/epoch - 5s/step\n",
      "Epoch 2/30\n",
      "9/9 - 45s - loss: 1.1282 - accuracy: 0.5976 - 45s/epoch - 5s/step\n",
      "Epoch 3/30\n",
      "9/9 - 44s - loss: 0.7291 - accuracy: 0.7374 - 44s/epoch - 5s/step\n",
      "Epoch 4/30\n",
      "9/9 - 44s - loss: 0.4718 - accuracy: 0.8313 - 44s/epoch - 5s/step\n",
      "Epoch 5/30\n",
      "9/9 - 40s - loss: 0.2934 - accuracy: 0.9119 - 40s/epoch - 4s/step\n",
      "Epoch 6/30\n",
      "9/9 - 45s - loss: 0.1741 - accuracy: 0.9512 - 45s/epoch - 5s/step\n",
      "Epoch 7/30\n",
      "9/9 - 66s - loss: 0.1511 - accuracy: 0.9625 - 66s/epoch - 7s/step\n",
      "Epoch 8/30\n",
      "9/9 - 56s - loss: 0.0712 - accuracy: 0.9840 - 56s/epoch - 6s/step\n",
      "Epoch 9/30\n",
      "9/9 - 48s - loss: 0.0390 - accuracy: 0.9927 - 48s/epoch - 5s/step\n",
      "Epoch 10/30\n",
      "9/9 - 53s - loss: 0.0224 - accuracy: 0.9962 - 53s/epoch - 6s/step\n",
      "Epoch 11/30\n",
      "9/9 - 54s - loss: 0.0156 - accuracy: 0.9978 - 54s/epoch - 6s/step\n",
      "Epoch 12/30\n",
      "9/9 - 48s - loss: 0.0114 - accuracy: 0.9979 - 48s/epoch - 5s/step\n",
      "Epoch 13/30\n",
      "9/9 - 48s - loss: 0.0102 - accuracy: 0.9984 - 48s/epoch - 5s/step\n",
      "Epoch 14/30\n",
      "9/9 - 45s - loss: 0.0099 - accuracy: 0.9980 - 45s/epoch - 5s/step\n",
      "Epoch 15/30\n",
      "9/9 - 43s - loss: 0.0136 - accuracy: 0.9965 - 43s/epoch - 5s/step\n",
      "Epoch 16/30\n",
      "9/9 - 52s - loss: 0.0328 - accuracy: 0.9889 - 52s/epoch - 6s/step\n",
      "Epoch 17/30\n",
      "9/9 - 49s - loss: 0.0142 - accuracy: 0.9976 - 49s/epoch - 5s/step\n",
      "Epoch 18/30\n",
      "9/9 - 46s - loss: 0.0096 - accuracy: 0.9985 - 46s/epoch - 5s/step\n",
      "Epoch 19/30\n",
      "9/9 - 49s - loss: 0.0073 - accuracy: 0.9986 - 49s/epoch - 5s/step\n",
      "Epoch 20/30\n",
      "9/9 - 44s - loss: 0.0062 - accuracy: 0.9984 - 44s/epoch - 5s/step\n",
      "Epoch 21/30\n",
      "9/9 - 41s - loss: 0.0064 - accuracy: 0.9984 - 41s/epoch - 5s/step\n",
      "Epoch 22/30\n",
      "9/9 - 41s - loss: 0.0053 - accuracy: 0.9989 - 41s/epoch - 5s/step\n",
      "Epoch 23/30\n",
      "9/9 - 44s - loss: 0.0043 - accuracy: 0.9992 - 44s/epoch - 5s/step\n",
      "Epoch 24/30\n",
      "9/9 - 49s - loss: 0.0043 - accuracy: 0.9986 - 49s/epoch - 5s/step\n",
      "Epoch 25/30\n",
      "9/9 - 48s - loss: 0.0041 - accuracy: 0.9988 - 48s/epoch - 5s/step\n",
      "Epoch 26/30\n",
      "9/9 - 41s - loss: 0.0051 - accuracy: 0.9986 - 41s/epoch - 5s/step\n",
      "Epoch 27/30\n",
      "9/9 - 39s - loss: 0.0071 - accuracy: 0.9987 - 39s/epoch - 4s/step\n",
      "Epoch 28/30\n",
      "9/9 - 38s - loss: 0.0030 - accuracy: 0.9989 - 38s/epoch - 4s/step\n",
      "Epoch 29/30\n",
      "9/9 - 40s - loss: 0.0040 - accuracy: 0.9987 - 40s/epoch - 4s/step\n",
      "Epoch 30/30\n",
      "9/9 - 38s - loss: 0.0037 - accuracy: 0.9987 - 38s/epoch - 4s/step\n",
      "5/5 - 5s - loss: 0.0279 - accuracy: 0.9918 - 5s/epoch - 1s/step\n",
      "Epoch 1/30\n",
      "9/9 - 56s - loss: 2.2324 - accuracy: 0.2860 - 56s/epoch - 6s/step\n",
      "Epoch 2/30\n",
      "9/9 - 44s - loss: 0.9283 - accuracy: 0.6346 - 44s/epoch - 5s/step\n",
      "Epoch 3/30\n",
      "9/9 - 43s - loss: 0.6324 - accuracy: 0.7870 - 43s/epoch - 5s/step\n",
      "Epoch 4/30\n",
      "9/9 - 44s - loss: 0.3881 - accuracy: 0.8739 - 44s/epoch - 5s/step\n",
      "Epoch 5/30\n",
      "9/9 - 44s - loss: 0.2102 - accuracy: 0.9436 - 44s/epoch - 5s/step\n",
      "Epoch 6/30\n",
      "9/9 - 44s - loss: 0.1080 - accuracy: 0.9683 - 44s/epoch - 5s/step\n",
      "Epoch 7/30\n",
      "9/9 - 39s - loss: 0.0611 - accuracy: 0.9839 - 39s/epoch - 4s/step\n",
      "Epoch 8/30\n",
      "9/9 - 44s - loss: 0.0452 - accuracy: 0.9868 - 44s/epoch - 5s/step\n",
      "Epoch 9/30\n",
      "9/9 - 42s - loss: 0.0365 - accuracy: 0.9903 - 42s/epoch - 5s/step\n",
      "Epoch 10/30\n",
      "9/9 - 46s - loss: 0.0187 - accuracy: 0.9968 - 46s/epoch - 5s/step\n",
      "Epoch 11/30\n",
      "9/9 - 45s - loss: 0.0154 - accuracy: 0.9968 - 45s/epoch - 5s/step\n",
      "Epoch 12/30\n",
      "9/9 - 51s - loss: 0.0098 - accuracy: 0.9988 - 51s/epoch - 6s/step\n",
      "Epoch 13/30\n",
      "9/9 - 51s - loss: 0.0113 - accuracy: 0.9981 - 51s/epoch - 6s/step\n",
      "Epoch 14/30\n",
      "9/9 - 56s - loss: 0.0111 - accuracy: 0.9984 - 56s/epoch - 6s/step\n",
      "Epoch 15/30\n",
      "9/9 - 52s - loss: 0.0121 - accuracy: 0.9976 - 52s/epoch - 6s/step\n",
      "Epoch 16/30\n",
      "9/9 - 47s - loss: 0.0115 - accuracy: 0.9984 - 47s/epoch - 5s/step\n",
      "Epoch 17/30\n",
      "9/9 - 41s - loss: 0.0070 - accuracy: 0.9987 - 41s/epoch - 5s/step\n",
      "Epoch 18/30\n",
      "9/9 - 49s - loss: 0.0068 - accuracy: 0.9981 - 49s/epoch - 5s/step\n",
      "Epoch 19/30\n",
      "9/9 - 59s - loss: 0.0086 - accuracy: 0.9985 - 59s/epoch - 7s/step\n",
      "Epoch 20/30\n",
      "9/9 - 58s - loss: 0.0056 - accuracy: 0.9986 - 58s/epoch - 6s/step\n",
      "Epoch 21/30\n",
      "9/9 - 54s - loss: 0.0055 - accuracy: 0.9987 - 54s/epoch - 6s/step\n",
      "Epoch 22/30\n",
      "9/9 - 47s - loss: 0.0045 - accuracy: 0.9993 - 47s/epoch - 5s/step\n",
      "Epoch 23/30\n",
      "9/9 - 47s - loss: 0.0049 - accuracy: 0.9989 - 47s/epoch - 5s/step\n",
      "Epoch 24/30\n",
      "9/9 - 47s - loss: 0.0093 - accuracy: 0.9974 - 47s/epoch - 5s/step\n",
      "Epoch 25/30\n",
      "9/9 - 51s - loss: 0.0108 - accuracy: 0.9988 - 51s/epoch - 6s/step\n",
      "Epoch 26/30\n",
      "9/9 - 47s - loss: 0.0066 - accuracy: 0.9980 - 47s/epoch - 5s/step\n",
      "Epoch 27/30\n",
      "9/9 - 47s - loss: 0.0057 - accuracy: 0.9984 - 47s/epoch - 5s/step\n",
      "Epoch 28/30\n",
      "9/9 - 49s - loss: 0.0050 - accuracy: 0.9985 - 49s/epoch - 5s/step\n",
      "Epoch 29/30\n",
      "9/9 - 56s - loss: 0.0043 - accuracy: 0.9988 - 56s/epoch - 6s/step\n",
      "Epoch 30/30\n",
      "9/9 - 40s - loss: 0.0059 - accuracy: 0.9985 - 40s/epoch - 4s/step\n",
      "5/5 - 5s - loss: 0.0439 - accuracy: 0.9887 - 5s/epoch - 1s/step\n",
      "Simple CNN Cross validation score : 0.9832\n"
     ]
    }
   ],
   "source": [
    "model = KerasClassifier(build_fn=create_model, epochs=30, batch_size=1024, verbose=2) \n",
    "# 3-Fold Crossvalidation\n",
    "kfold = KFold(n_splits=3, shuffle=True, random_state=2019) \n",
    "results = cross_val_score(model, x_train, y_train, cv=kfold)\n",
    "# Check 3-fold model's mean accuracy\n",
    "print('Simple CNN Cross validation score : {:.4f}'.format(np.mean(results)))"
   ]
  },
  {
   "cell_type": "code",
   "execution_count": 42,
   "id": "68654c2a",
   "metadata": {},
   "outputs": [
    {
     "name": "stdout",
     "output_type": "stream",
     "text": [
      "Epoch 1/30\n",
      "13/13 - 69s - loss: 1.5120 - accuracy: 0.4939 - val_loss: 0.6786 - val_accuracy: 0.7396 - 69s/epoch - 5s/step\n",
      "Epoch 2/30\n",
      "13/13 - 60s - loss: 0.5337 - accuracy: 0.8053 - val_loss: 0.5728 - val_accuracy: 0.8676 - 60s/epoch - 5s/step\n",
      "Epoch 3/30\n",
      "13/13 - 58s - loss: 0.4340 - accuracy: 0.8595 - val_loss: 0.2753 - val_accuracy: 0.9132 - 58s/epoch - 4s/step\n",
      "Epoch 4/30\n",
      "13/13 - 58s - loss: 0.2036 - accuracy: 0.9432 - val_loss: 0.1321 - val_accuracy: 0.9665 - 58s/epoch - 4s/step\n",
      "Epoch 5/30\n",
      "13/13 - 58s - loss: 0.0853 - accuracy: 0.9783 - val_loss: 0.0535 - val_accuracy: 0.9896 - 58s/epoch - 4s/step\n",
      "Epoch 6/30\n",
      "13/13 - 60s - loss: 0.0345 - accuracy: 0.9933 - val_loss: 0.0352 - val_accuracy: 0.9914 - 60s/epoch - 5s/step\n",
      "Epoch 7/30\n",
      "13/13 - 63s - loss: 0.0221 - accuracy: 0.9950 - val_loss: 0.0325 - val_accuracy: 0.9922 - 63s/epoch - 5s/step\n",
      "Epoch 8/30\n",
      "13/13 - 59s - loss: 0.0167 - accuracy: 0.9969 - val_loss: 0.0223 - val_accuracy: 0.9951 - 59s/epoch - 5s/step\n",
      "Epoch 9/30\n",
      "13/13 - 59s - loss: 0.0106 - accuracy: 0.9980 - val_loss: 0.0206 - val_accuracy: 0.9931 - 59s/epoch - 5s/step\n",
      "Epoch 10/30\n",
      "13/13 - 60s - loss: 0.0102 - accuracy: 0.9984 - val_loss: 0.0301 - val_accuracy: 0.9876 - 60s/epoch - 5s/step\n",
      "Epoch 11/30\n",
      "13/13 - 60s - loss: 0.0108 - accuracy: 0.9976 - val_loss: 0.0224 - val_accuracy: 0.9930 - 60s/epoch - 5s/step\n",
      "Epoch 12/30\n",
      "13/13 - 63s - loss: 0.0094 - accuracy: 0.9982 - val_loss: 0.0223 - val_accuracy: 0.9925 - 63s/epoch - 5s/step\n",
      "Epoch 13/30\n",
      "13/13 - 61s - loss: 0.0104 - accuracy: 0.9982 - val_loss: 0.0208 - val_accuracy: 0.9938 - 61s/epoch - 5s/step\n",
      "Epoch 14/30\n",
      "13/13 - 58s - loss: 0.0086 - accuracy: 0.9977 - val_loss: 0.0205 - val_accuracy: 0.9949 - 58s/epoch - 4s/step\n",
      "Epoch 15/30\n",
      "13/13 - 60s - loss: 0.0085 - accuracy: 0.9978 - val_loss: 0.0212 - val_accuracy: 0.9943 - 60s/epoch - 5s/step\n",
      "Epoch 16/30\n",
      "13/13 - 59s - loss: 0.0068 - accuracy: 0.9984 - val_loss: 0.0204 - val_accuracy: 0.9935 - 59s/epoch - 5s/step\n",
      "Epoch 17/30\n",
      "13/13 - 59s - loss: 0.0063 - accuracy: 0.9987 - val_loss: 0.0217 - val_accuracy: 0.9947 - 59s/epoch - 5s/step\n",
      "Epoch 18/30\n",
      "13/13 - 58s - loss: 0.0054 - accuracy: 0.9984 - val_loss: 0.0175 - val_accuracy: 0.9952 - 58s/epoch - 4s/step\n",
      "Epoch 19/30\n",
      "13/13 - 58s - loss: 0.0048 - accuracy: 0.9984 - val_loss: 0.0189 - val_accuracy: 0.9930 - 58s/epoch - 4s/step\n",
      "Epoch 20/30\n",
      "13/13 - 58s - loss: 0.0056 - accuracy: 0.9987 - val_loss: 0.0190 - val_accuracy: 0.9944 - 58s/epoch - 4s/step\n",
      "Epoch 21/30\n",
      "13/13 - 64s - loss: 0.0094 - accuracy: 0.9980 - val_loss: 0.0256 - val_accuracy: 0.9943 - 64s/epoch - 5s/step\n",
      "Epoch 22/30\n",
      "13/13 - 71s - loss: 0.0108 - accuracy: 0.9982 - val_loss: 0.0181 - val_accuracy: 0.9952 - 71s/epoch - 5s/step\n",
      "Epoch 23/30\n",
      "13/13 - 68s - loss: 0.0047 - accuracy: 0.9988 - val_loss: 0.0205 - val_accuracy: 0.9941 - 68s/epoch - 5s/step\n",
      "Epoch 24/30\n",
      "13/13 - 58s - loss: 0.0049 - accuracy: 0.9988 - val_loss: 0.0151 - val_accuracy: 0.9955 - 58s/epoch - 4s/step\n",
      "Epoch 25/30\n",
      "13/13 - 59s - loss: 0.0046 - accuracy: 0.9990 - val_loss: 0.0167 - val_accuracy: 0.9944 - 59s/epoch - 5s/step\n",
      "Epoch 26/30\n",
      "13/13 - 60s - loss: 0.0062 - accuracy: 0.9984 - val_loss: 0.0138 - val_accuracy: 0.9952 - 60s/epoch - 5s/step\n",
      "Epoch 27/30\n",
      "13/13 - 59s - loss: 0.0055 - accuracy: 0.9984 - val_loss: 0.0144 - val_accuracy: 0.9962 - 59s/epoch - 5s/step\n",
      "Epoch 28/30\n",
      "13/13 - 59s - loss: 0.0036 - accuracy: 0.9990 - val_loss: 0.0189 - val_accuracy: 0.9943 - 59s/epoch - 5s/step\n",
      "Epoch 29/30\n",
      "13/13 - 57s - loss: 0.0034 - accuracy: 0.9991 - val_loss: 0.0139 - val_accuracy: 0.9962 - 57s/epoch - 4s/step\n",
      "Epoch 30/30\n",
      "13/13 - 58s - loss: 0.0043 - accuracy: 0.9987 - val_loss: 0.0246 - val_accuracy: 0.9931 - 58s/epoch - 4s/step\n"
     ]
    }
   ],
   "source": [
    "history = model.fit(x_train, y_train,\n",
    "         validation_data=[x_test, y_test],\n",
    "         epochs=epoch,\n",
    "         batch_size=batch_size,\n",
    "         )"
   ]
  },
  {
   "cell_type": "code",
   "execution_count": 43,
   "id": "2ef090e3",
   "metadata": {},
   "outputs": [
    {
     "name": "stdout",
     "output_type": "stream",
     "text": [
      "7/7 - 12s - loss: 0.0246 - accuracy: 0.9931 - 12s/epoch - 2s/step\n",
      "Testing Accuracy: 0.9931419491767883\n"
     ]
    }
   ],
   "source": [
    "score = model.score(x_test, y_test)\n",
    "#print('Test Loss:', score[0])\n",
    "#print('Test accuracy:', score[1])\n",
    "print('Testing Accuracy:',score)"
   ]
  },
  {
   "cell_type": "code",
   "execution_count": 45,
   "id": "4140ab8c",
   "metadata": {},
   "outputs": [
    {
     "data": {
      "image/png": "[encoded data removed]",
      "text/plain": [
       "<Figure size 432x288 with 1 Axes>"
      ]
     },
     "metadata": {
      "needs_background": "light"
     },
     "output_type": "display_data"
    },
    {
     "data": {
      "image/png": "[encoded data removed]",
      "text/plain": [
       "<Figure size 432x288 with 1 Axes>"
      ]
     },
     "metadata": {
      "needs_background": "light"
     },
     "output_type": "display_data"
    }
   ],
   "source": [
    "# accuracy plot \n",
    "plt.plot(history.history['accuracy'])\n",
    "plt.plot(history.history['val_accuracy'])\n",
    "plt.title('model accuracy')\n",
    "plt.ylabel('accuracy')\n",
    "plt.xlabel('epoch')\n",
    "plt.legend(['train', 'test'], loc='upper left')\n",
    "plt.show()\n",
    "\n",
    "# loss plot\n",
    "plt.plot(history.history['loss'])\n",
    "plt.plot(history.history['val_loss'])\n",
    "plt.title('model loss')\n",
    "plt.ylabel('loss')\n",
    "plt.xlabel('epoch')\n",
    "plt.legend(['train', 'test'], loc='upper left')\n",
    "plt.show()"
   ]
  },
  {
   "cell_type": "code",
   "execution_count": null,
   "id": "6749b146",
   "metadata": {},
   "outputs": [],
   "source": []
  }
 ],
 "metadata": {
  "kernelspec": {
   "display_name": "Python 3",
   "language": "python",
   "name": "python3"
  },
  "language_info": {
   "codemirror_mode": {
    "name": "ipython",
    "version": 3
   },
   "file_extension": ".py",
   "mimetype": "text/x-python",
   "name": "python",
   "nbconvert_exporter": "python",
   "pygments_lexer": "ipython3",
   "version": "3.8.8"
  }
 },
 "nbformat": 4,
 "nbformat_minor": 5
}
